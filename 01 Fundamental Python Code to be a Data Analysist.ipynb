{
 "cells": [
  {
   "cell_type": "markdown",
   "metadata": {
    "application/vnd.databricks.v1+cell": {
     "cellMetadata": {},
     "inputWidgets": {},
     "nuid": "0e5953ad-7432-4df9-8d3a-113cb8809217",
     "showTitle": false,
     "tableResultSettingsMap": {},
     "title": ""
    }
   },
   "source": [
    "### 파이썬 여정 나아가기"
   ]
  },
  {
   "cell_type": "markdown",
   "metadata": {
    "application/vnd.databricks.v1+cell": {
     "cellMetadata": {},
     "inputWidgets": {},
     "nuid": "6341ff18-1b0a-47b1-b08d-09cdfcb2f526",
     "showTitle": false,
     "tableResultSettingsMap": {},
     "title": ""
    }
   },
   "source": [
    "### 파이썬 화재작 : 프린트 결과물 추출\n"
   ]
  },
  {
   "cell_type": "code",
   "execution_count": 0,
   "metadata": {
    "application/vnd.databricks.v1+cell": {
     "cellMetadata": {
      "byteLimit": 2048000,
      "rowLimit": 10000
     },
     "inputWidgets": {},
     "nuid": "15e8703f-0ae9-499d-9fad-bbfc97897334",
     "showTitle": false,
     "tableResultSettingsMap": {},
     "title": ""
    }
   },
   "outputs": [],
   "source": [
    "# 예제 1-1 셀단위 코드 입력/실행/주석\n",
    "print(\"안녕하세요! 직장인을 위한 데이터 분석 실무 파이썬 코드 여정에 잘 오셨습니다!\")"
   ]
  },
  {
   "cell_type": "code",
   "execution_count": 0,
   "metadata": {
    "application/vnd.databricks.v1+cell": {
     "cellMetadata": {
      "byteLimit": 2048000,
      "rowLimit": 10000
     },
     "inputWidgets": {},
     "nuid": "20409506-59ac-4841-88a9-b4d8582bd3cc",
     "showTitle": false,
     "tableResultSettingsMap": {},
     "title": ""
    }
   },
   "outputs": [],
   "source": [
    "\n",
    "# 예제 1-2 셀단위 코드 입력/실행/주석\n",
    "print(\"Hi\")\n",
    "# 주석: # 뒤에 나온 부분은 주석으로 실행되지 않습니다.  "
   ]
  },
  {
   "cell_type": "markdown",
   "metadata": {
    "application/vnd.databricks.v1+cell": {
     "cellMetadata": {},
     "inputWidgets": {},
     "nuid": "b5864f72-6443-45e1-96f0-a19c3487d2e2",
     "showTitle": false,
     "tableResultSettingsMap": {},
     "title": ""
    }
   },
   "source": [
    "### 다양한 변수들 선언"
   ]
  },
  {
   "cell_type": "code",
   "execution_count": 0,
   "metadata": {
    "application/vnd.databricks.v1+cell": {
     "cellMetadata": {
      "byteLimit": 2048000,
      "rowLimit": 10000
     },
     "inputWidgets": {},
     "nuid": "f338c1f7-fd1f-448a-b2e6-ca4ed01736f2",
     "showTitle": false,
     "tableResultSettingsMap": {},
     "title": ""
    }
   },
   "outputs": [],
   "source": [
    "# 예제 1-3 변수 입력 및 화면 출력\n",
    "a = 9\n",
    "b = 5\n"
   ]
  },
  {
   "cell_type": "markdown",
   "metadata": {
    "application/vnd.databricks.v1+cell": {
     "cellMetadata": {},
     "inputWidgets": {},
     "nuid": "62dceeba-7307-4854-99ff-442036cf334f",
     "showTitle": false,
     "tableResultSettingsMap": {},
     "title": ""
    }
   },
   "source": [
    "#### 선언된 변수들을 출력하는 다양한 방법"
   ]
  },
  {
   "cell_type": "code",
   "execution_count": 0,
   "metadata": {
    "application/vnd.databricks.v1+cell": {
     "cellMetadata": {
      "byteLimit": 2048000,
      "rowLimit": 10000
     },
     "inputWidgets": {},
     "nuid": "141c1b1a-fb5a-4606-891c-2183d26c1ba4",
     "showTitle": false,
     "tableResultSettingsMap": {},
     "title": ""
    }
   },
   "outputs": [],
   "source": [
    "# 예제 1-4 사칙연산 화면에 출력하기  \n",
    "print( a + b )    # 더하기\n",
    "print( a - b )    # 빼기\n",
    "print( a * b )    # 곱하기\n",
    "print( a / b )    # 나누기\n",
    "print( a // b )   # 나눈 몫\n",
    "print( a % b )    # 나눈 나머지\n",
    "print( a ** b)  # a를 b번 곱한 값을 반환  여기서는 9의 5승 (**values: object, **kwargs: Any) -> object\n",
    "print( a == b ) # (*values: object, sep: Optional[str]=..., end: Optional[str]=..., file: Optional[SupportsWrite[str]]=..., flush: bool=...) -> None\n",
    "print( a > b )  # (*values: object, sep: Optional[str]=..., end: Optional[str]=..., file: Optional[SupportsWrite[str]]=..., flush: bool=...) -> None"
   ]
  },
  {
   "cell_type": "markdown",
   "metadata": {
    "application/vnd.databricks.v1+cell": {
     "cellMetadata": {},
     "inputWidgets": {},
     "nuid": "f9f62e14-226e-42d5-a798-92b3fdeb8e34",
     "showTitle": false,
     "tableResultSettingsMap": {},
     "title": ""
    }
   },
   "source": [
    "#### 복수값들을 한 번에 출력"
   ]
  },
  {
   "cell_type": "code",
   "execution_count": 0,
   "metadata": {
    "application/vnd.databricks.v1+cell": {
     "cellMetadata": {
      "byteLimit": 2048000,
      "rowLimit": 10000
     },
     "inputWidgets": {},
     "nuid": "e61dc3d0-b97d-4db8-93c0-1f576dea1205",
     "showTitle": false,
     "tableResultSettingsMap": {},
     "title": ""
    }
   },
   "outputs": [],
   "source": [
    "\n",
    "# 예제 1-5 변수 여러 개 출력하기  \n",
    "print('파이썬', '데이터분석입문',' PlaywithData','데이터수집')"
   ]
  },
  {
   "cell_type": "markdown",
   "metadata": {
    "application/vnd.databricks.v1+cell": {
     "cellMetadata": {},
     "inputWidgets": {},
     "nuid": "eaf67158-44f0-42b0-9815-0e1d68a810f3",
     "showTitle": false,
     "tableResultSettingsMap": {},
     "title": ""
    }
   },
   "source": [
    "####  변수들 사이로 특정 문장을 구분자로서 사용하여 출력하기"
   ]
  },
  {
   "cell_type": "code",
   "execution_count": 0,
   "metadata": {
    "application/vnd.databricks.v1+cell": {
     "cellMetadata": {
      "byteLimit": 2048000,
      "rowLimit": 10000
     },
     "inputWidgets": {},
     "nuid": "697774c1-2a4f-42b9-9b41-c1badee2fb3e",
     "showTitle": false,
     "tableResultSettingsMap": {},
     "title": ""
    }
   },
   "outputs": [],
   "source": [
    "# 예제  1-6 변수 여러 개 출력하기  \n",
    "print('귤','사과','배',sep = ' / ')   "
   ]
  },
  {
   "cell_type": "markdown",
   "metadata": {
    "application/vnd.databricks.v1+cell": {
     "cellMetadata": {},
     "inputWidgets": {},
     "nuid": "248c8270-8a5e-4435-87a7-3f5b656c7014",
     "showTitle": false,
     "tableResultSettingsMap": {},
     "title": ""
    }
   },
   "source": [
    "### 파이썬 화재작 : 리스트 오브젝트\n"
   ]
  },
  {
   "cell_type": "code",
   "execution_count": 0,
   "metadata": {
    "application/vnd.databricks.v1+cell": {
     "cellMetadata": {
      "byteLimit": 2048000,
      "rowLimit": 10000
     },
     "inputWidgets": {},
     "nuid": "1e30dce5-c1e2-4730-a412-fb035e393af8",
     "showTitle": false,
     "tableResultSettingsMap": {},
     "title": ""
    }
   },
   "outputs": [],
   "source": [
    "# 예제 1-7 리스트 자료 입력\n",
    "print( '1번','2번','3번','4번','5번','6번','7번','8번','9번','10번')\n",
    "class_2_1= [ '1번','2번','3번','4번','5번','6번','7번','8번','9번','10번' ] \n",
    "print(class_2_1)\n",
    "\n",
    "# 예제 1-8 리스트 자료 내 원소 1개 선택하기: 인덱스 번호 활용\n",
    "k    =   ['a','b','c','d','e']\n",
    "#index    0   1   2   3   4\n",
    "#index   -5  -4   -3  -2  -1\n",
    "\n",
    "print( k[1] )      \n",
    "print( k[-4] )      \n",
    "\n",
    "# 예제 1-9 리스트 자료 구간별 글자 선택하기: 슬라이싱\n",
    "# list [인덱스시작번호: 끝 다음 번호] \n",
    "k     =  ['a', 'b','c','d','e']\n",
    "#index      0   1   2   3   4\n",
    "#index     -5  -4   -3  -2  -1\n",
    "print( k[ 1 : 3 ] )         \n",
    "print( k[ -4 : -2 ] )      \n",
    "\n",
    "# 예제 1-10 리스트 합치기: 리스트1 + 리스트2\n",
    "# A + B\n",
    "l1 = ['a']\n",
    "l2 = ['b','c','e']\n",
    "print(l1 + l2)    \n",
    "print(l2 + l1)    \n",
    "\n",
    "\n",
    "# 예제 1-11 리스트 추가하기(하나의 원소로 붙이기): 리스트1.append(리스트2)\n",
    "l1 = ['a']\n",
    "l2 = ['b','c','e']\n",
    "l1.append(l2)      \n",
    "print(l1)"
   ]
  },
  {
   "cell_type": "markdown",
   "metadata": {
    "application/vnd.databricks.v1+cell": {
     "cellMetadata": {},
     "inputWidgets": {},
     "nuid": "199804b2-98be-408f-8856-c2d90e960869",
     "showTitle": false,
     "tableResultSettingsMap": {},
     "title": ""
    }
   },
   "source": [
    "### 파이썬의 화재작 : 반복문"
   ]
  },
  {
   "cell_type": "code",
   "execution_count": 0,
   "metadata": {
    "application/vnd.databricks.v1+cell": {
     "cellMetadata": {
      "byteLimit": 2048000,
      "rowLimit": 10000
     },
     "inputWidgets": {},
     "nuid": "c2abc2f5-e3d8-40c5-99b4-dc07da1c04e4",
     "showTitle": false,
     "tableResultSettingsMap": {},
     "title": ""
    }
   },
   "outputs": [],
   "source": [
    "# 예제 1-12 반복문 활용하기\n",
    "fruits = ['바나나','사과','딸기','배','감']\n",
    "for fruit in fruits:\n",
    "    print(fruit)     "
   ]
  },
  {
   "cell_type": "markdown",
   "metadata": {
    "application/vnd.databricks.v1+cell": {
     "cellMetadata": {},
     "inputWidgets": {},
     "nuid": "d08536dc-3731-4e76-85b7-1cee152a4baa",
     "showTitle": false,
     "tableResultSettingsMap": {},
     "title": ""
    }
   },
   "source": [
    "### 파이썬의 화재작 : 문자열"
   ]
  },
  {
   "cell_type": "markdown",
   "metadata": {
    "application/vnd.databricks.v1+cell": {
     "cellMetadata": {},
     "inputWidgets": {},
     "nuid": "cf56c88e-6c6e-4478-8e4a-ec4c244bcc3d",
     "showTitle": false,
     "tableResultSettingsMap": {},
     "title": ""
    }
   },
   "source": [
    "#### 다음의 메소드를 사용하여 문자열 활용하기 - 합치기, 반복하기, 포메팅, 인덱스, 슬라이싱 작업"
   ]
  },
  {
   "cell_type": "code",
   "execution_count": 0,
   "metadata": {
    "application/vnd.databricks.v1+cell": {
     "cellMetadata": {
      "byteLimit": 2048000,
      "rowLimit": 10000
     },
     "inputWidgets": {},
     "nuid": "291f356f-8b94-484d-845b-0d08a844f0d0",
     "showTitle": false,
     "tableResultSettingsMap": {},
     "title": ""
    }
   },
   "outputs": [],
   "source": [
    "# 예제 1-13 문자열 입/출력\n",
    "s = '문자'\n",
    "print(s)\n",
    "\n",
    "\n",
    "# 예제 1-14 문자열 합치기(+)\n",
    "a = \"사과\"\n",
    "b = \"망고, 파인애플\"\n",
    "ab = a + b\n",
    "print(ab)    \n",
    "print(ab, sep=',')    \n",
    "print(a, b, sep=',')    \n",
    "\n",
    "# 예제 1-15 문자열 반복하기(*)\n",
    "z = \"*\"\n",
    "print( z * 10)    \n",
    "\n",
    "\n",
    "# 예제 1-16 문자열 포매팅\n",
    "month = \"2월\"\n",
    "day = \"20일\"\n",
    "say_word = \"{} {}은 일요일입니다\"\n",
    "\n",
    "print(say_word)    \n",
    "\n",
    "say = \"{} {}은 일요일입니다\".format(month, day)\n",
    "\n",
    "print(say)    \n",
    "\n",
    "\n",
    "# 예제 1-17 문자열 일부 선택하기: 인덱스, 슬라이싱\n",
    "k       =   \"가나다라마바\"\n",
    "# index      0 1 2 3 4 5\n",
    "# index     -6-5-4-3-2-1 \n",
    "print(k[2])      \n",
    "print(k[-1])     \n",
    "print(k[2:5])    \n",
    "print(k[3:])     \n",
    "\n",
    "\n",
    "\n",
    "# 예제 1-18 문자열 정리하기: strip(), replace(a,b), split()\n",
    "t1 = \"   hp010-0000-0000   \"\n",
    "print(t1)\n",
    "t2 = t1.strip()\n",
    "print(t2) \n",
    "t3 = t2.replace('hp', ' ')   \n",
    "print(t3)      \n",
    "t4 = t3.split('-')\n",
    "print(t4)      "
   ]
  },
  {
   "cell_type": "markdown",
   "metadata": {
    "application/vnd.databricks.v1+cell": {
     "cellMetadata": {},
     "inputWidgets": {},
     "nuid": "b5e3b28e-8fc0-4c97-bdf8-43b7c9c85b7b",
     "showTitle": false,
     "tableResultSettingsMap": {},
     "title": ""
    }
   },
   "source": [
    "### 파이썬의 화재작 : 조건문"
   ]
  },
  {
   "cell_type": "code",
   "execution_count": 0,
   "metadata": {
    "application/vnd.databricks.v1+cell": {
     "cellMetadata": {
      "byteLimit": 2048000,
      "rowLimit": 10000
     },
     "inputWidgets": {},
     "nuid": "91636bc1-9c96-42db-95d2-d2ba65a66ca9",
     "showTitle": false,
     "tableResultSettingsMap": {},
     "title": ""
    }
   },
   "outputs": [],
   "source": [
    "# 예제 1-19 if 조건문 사용하기\n",
    "price = 5000\n",
    "if price > 3000:\n",
    "    print('비싸다')\n",
    "else:\n",
    "    print('저렴하다')"
   ]
  },
  {
   "cell_type": "markdown",
   "metadata": {
    "application/vnd.databricks.v1+cell": {
     "cellMetadata": {},
     "inputWidgets": {},
     "nuid": "e7746e42-905d-45cf-8150-214b6438c46c",
     "showTitle": false,
     "tableResultSettingsMap": {},
     "title": ""
    }
   },
   "source": [
    "### 파이썬의 화재작 : 함수 선언과 활용법"
   ]
  },
  {
   "cell_type": "code",
   "execution_count": 0,
   "metadata": {
    "application/vnd.databricks.v1+cell": {
     "cellMetadata": {
      "byteLimit": 2048000,
      "rowLimit": 10000
     },
     "inputWidgets": {},
     "nuid": "3ef844b1-6cd9-4ce4-9e29-913c2df73e25",
     "showTitle": false,
     "tableResultSettingsMap": {},
     "title": ""
    }
   },
   "outputs": [],
   "source": [
    "# 예제 1-20 함수 예제: 자기 소개\n",
    "def say_name(name):\n",
    "    print('안녕하세요')\n",
    "    print('제 이름은' + name + '입니다')\n",
    "\n",
    "say_name( '홍길동' )\n",
    "\n",
    "\n",
    "\n",
    "# 예제 1 21 지수 곱 함수만들기\n",
    "def calcul(a,b):\n",
    "    result = a**b\n",
    "    return result\n",
    "\n",
    "test = calcul(10,3)\n",
    "print(' 10 의 3제곱은', test)      \n",
    "#print(' 10 의 3제곱은' +  test)      ## can only concatenate str (not \"int\") to str. You need to add a comma between the string and the variable test in the print function. This will fix the syntax error by correctly separating the string and the variable with a comma."
   ]
  },
  {
   "cell_type": "markdown",
   "metadata": {
    "application/vnd.databricks.v1+cell": {
     "cellMetadata": {},
     "inputWidgets": {},
     "nuid": "d2b12c62-4558-4e66-b81d-d73c3ce0c76c",
     "showTitle": false,
     "tableResultSettingsMap": {},
     "title": ""
    }
   },
   "source": [
    "### 파이썬의 화재작 :  Pandas (판다스)"
   ]
  },
  {
   "cell_type": "code",
   "execution_count": 0,
   "metadata": {
    "application/vnd.databricks.v1+cell": {
     "cellMetadata": {
      "byteLimit": 2048000,
      "rowLimit": 10000
     },
     "inputWidgets": {},
     "nuid": "67a26a10-87e8-4d0b-8941-b331b98ad0a2",
     "showTitle": false,
     "tableResultSettingsMap": {},
     "title": ""
    }
   },
   "outputs": [],
   "source": [
    "# 예제 2-1 pandas 라이브러리 불러오기\n",
    "import pandas as pd \n",
    "\n",
    "# 예제 2-2 sample_1.xlsx 엑셀데이터 불러오기 \n",
    "# 만약 해당 엑셀 파일이 존재하지 않는다면 The error indicates that the file sample_1.xlsx cannot be found at the specified path.\n",
    "# To fix this, ensure that the file path is correct. \n",
    "# If the file is stored in Azure Databricks, you should use the Databricks file system (DBFS) path.\n",
    "# file sample_1.xlsx is uploaded to the /FileStore/tables/ directory in DBFS.\n",
    "sample_1 = pd.read_excel('./files/sample_1.xlsx', \n",
    "                         header=1, \n",
    "                         skipfooter=2, \n",
    "                         usecols='A:C')\n",
    "sample_1.head(3)"
   ]
  },
  {
   "cell_type": "code",
   "execution_count": 0,
   "metadata": {
    "application/vnd.databricks.v1+cell": {
     "cellMetadata": {
      "byteLimit": 2048000,
      "rowLimit": 10000
     },
     "inputWidgets": {},
     "nuid": "2e3c7fd4-0b98-4b57-9f7d-0f5238800b0f",
     "showTitle": false,
     "tableResultSettingsMap": {},
     "title": ""
    }
   },
   "outputs": [],
   "source": [
    "%python\n",
    "# Import pandas library\n",
    "import pandas as pd\n",
    "\n",
    "# Load the Excel data from DBFS\n",
    "sample_1 = pd.read_excel('/dbfs/FileStore/tables/sample_1.xlsx', \n",
    "                         header=1, \n",
    "                         skipfooter=2, \n",
    "                         usecols='A:C')\n",
    "display(sample_1.head(3))"
   ]
  },
  {
   "cell_type": "markdown",
   "metadata": {
    "application/vnd.databricks.v1+cell": {
     "cellMetadata": {},
     "inputWidgets": {},
     "nuid": "0020441b-710c-4ead-9f1f-0ae3e7745b35",
     "showTitle": false,
     "tableResultSettingsMap": {},
     "title": ""
    }
   },
   "source": [
    "### 파이썬의 화재작 : How to upload a file to DBFS in Azure Databricks?"
   ]
  },
  {
   "cell_type": "markdown",
   "metadata": {
    "application/vnd.databricks.v1+cell": {
     "cellMetadata": {},
     "inputWidgets": {},
     "nuid": "5251c512-5d72-4a9e-ab75-9bb2fdfa98ad",
     "showTitle": false,
     "tableResultSettingsMap": {},
     "title": ""
    }
   },
   "source": [
    "1. Navigate to the Databricks workspace:\n",
    "\n",
    "-     Open your Databricks workspace in your web browser.\n",
    "\n",
    "2. Upload the file:\n",
    "\n",
    "-     Click on the \"Data\" icon on the left sidebar.\n",
    "-     Click on \"Add Data\" and then \"Upload File\".\n",
    "-     Select the file you want to upload from your local machine.\n",
    "-     Choose the destination path, typically /FileStore/tables/, and click \"Next\".\n",
    "-     Click \"Create Table in Notebook\" if you want to create a table from the file, or simply \"Upload\" to just upload the file.\n",
    "3. Access the file in your notebook:\n",
    "\n",
    "-     Use the path /dbfs/FileStore/tables/your_file_name to access the file in your code."
   ]
  }
 ],
 "metadata": {
  "application/vnd.databricks.v1+notebook": {
   "computePreferences": null,
   "dashboards": [],
   "environmentMetadata": {
    "base_environment": "",
    "environment_version": "2"
   },
   "inputWidgetPreferences": null,
   "language": "python",
   "notebookMetadata": {
    "pythonIndentUnit": 4
   },
   "notebookName": "01 Fundamental Python Code to be a Data Analysist",
   "widgets": {}
  },
  "language_info": {
   "name": "python"
  }
 },
 "nbformat": 4,
 "nbformat_minor": 0
}
